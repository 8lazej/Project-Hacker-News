{
  "cells": [
    {
      "cell_type": "markdown",
      "metadata": {
        "id": "3y564IIlkbJk"
      },
      "source": [
        "#Project Hacker News\n",
        "\n",
        "##Cel projektu:\n",
        "\n",
        "Porównanie rodzajów/typów postów na internetowym forum **Hacker News**.\n",
        "\n",
        "W projecie przeanalizowano 2 typy postów, ich przedrodtki to:\n",
        "\n",
        "`Ask HN ` - posty w których użytkownicy pytają o konkretne zagadfnienia.\n",
        "\n",
        "`Show HN ` - posty w których użytkownicy dzielą się ze sobą projektami.\n",
        "\n",
        "Postanowiono odpowiedzieć na pytania:\n",
        "\n",
        "\n",
        "*   Czy posty z kategorii `Ask HN ` i `Show HN ` są średnio częściej komentowane niż pozostałe?\n",
        "*   Czy posty utworzone w konkretnym przedziale czasu były średnio częściej komentowane niż w innym czasie?"
      ]
    },
    {
      "cell_type": "markdown",
      "metadata": {
        "id": "ATx6iXI4kmyS"
      },
      "source": [
        "#### Wprowadzenie\n",
        "\n",
        "Wczytanie i krótki opis danych. (Posłużono się metodami z poprzedniego projektu Apps)"
      ]
    },
    {
      "cell_type": "code",
      "execution_count": null,
      "metadata": {
        "colab": {
          "base_uri": "https://localhost:8080/"
        },
        "id": "GNyygfCyk64Y",
        "outputId": "726f399c-0a06-4e60-b8e2-1e475efc0594"
      },
      "outputs": [
        {
          "name": "stdout",
          "output_type": "stream",
          "text": [
            "--2022-12-06 13:15:30--  https://raw.githubusercontent.com/VictorOmondi1997/ExploringHackerNewsPosts/master/hacker_news.csv\n",
            "Resolving raw.githubusercontent.com (raw.githubusercontent.com)... 185.199.111.133, 185.199.109.133, 185.199.108.133, ...\n",
            "Connecting to raw.githubusercontent.com (raw.githubusercontent.com)|185.199.111.133|:443... connected.\n",
            "HTTP request sent, awaiting response... 200 OK\n",
            "Length: 3104968 (3.0M) [text/plain]\n",
            "Saving to: ‘hn_wget.csv’\n",
            "\n",
            "hn_wget.csv         100%[===================>]   2.96M  --.-KB/s    in 0.02s   \n",
            "\n",
            "2022-12-06 13:15:30 (119 MB/s) - ‘hn_wget.csv’ saved [3104968/3104968]\n",
            "\n"
          ]
        }
      ],
      "source": [
        "!wget https://raw.githubusercontent.com/VictorOmondi1997/ExploringHackerNewsPosts/master/hacker_news.csv -O hn_wget.csv\n",
        "\n",
        "from csv import reader\n",
        "hn = list(reader(open('hn_wget.csv')))\n",
        "hn_header = hn[0]\n",
        "hn = hn[1:]\n",
        "\n",
        "def explore_data_pandas(dane1, start, end):\n",
        "  print(f'Liczba wierszy: {len(dane1)}')\n",
        "  print(f'Liczba kolumn: {len(dane1[0])}')\n",
        "  import pandas\n",
        "  df = pandas.DataFrame(dane1[start:end])\n",
        "  display(df)"
      ]
    },
    {
      "cell_type": "markdown",
      "metadata": {
        "id": "-NS9bZq6k-qP"
      },
      "source": [
        "Zbiór danych posiada 20100 rekordów oraz 7 kolumn, które kolejno oznaczają:\n",
        "\n",
        "0.   `id` - unikatowy numer artykułu\n",
        "1.   `title` - tytuł artykułu\n",
        "2.   `url` - link do artykuły (jezeli jest)\n",
        "3.   `num_points` - liczbę punktów jakie zdobył danyc artykuł, wyliczoną z różnicy punktów dodatnich i ujemnych.\n",
        "4.   `num_comments` - liczba komentarzy\n",
        "5.   `author` - nick autora artykułu\n",
        "6.   `created_at` - data publikacji artykułu"
      ]
    },
    {
      "cell_type": "code",
      "execution_count": null,
      "metadata": {
        "colab": {
          "base_uri": "https://localhost:8080/",
          "height": 238
        },
        "id": "c2r8amSslCUF",
        "outputId": "fe97cdce-501b-40b1-e95b-f6950e581f68"
      },
      "outputs": [
        {
          "name": "stdout",
          "output_type": "stream",
          "text": [
            "Liczba wierszy: 20100\n",
            "Liczba kolumn: 7\n"
          ]
        },
        {
          "data": {
            "text/html": [
              "\n",
              "  <div id=\"df-aa7fc97c-f309-4882-9628-67c3a9a72170\">\n",
              "    <div class=\"colab-df-container\">\n",
              "      <div>\n",
              "<style scoped>\n",
              "    .dataframe tbody tr th:only-of-type {\n",
              "        vertical-align: middle;\n",
              "    }\n",
              "\n",
              "    .dataframe tbody tr th {\n",
              "        vertical-align: top;\n",
              "    }\n",
              "\n",
              "    .dataframe thead th {\n",
              "        text-align: right;\n",
              "    }\n",
              "</style>\n",
              "<table border=\"1\" class=\"dataframe\">\n",
              "  <thead>\n",
              "    <tr style=\"text-align: right;\">\n",
              "      <th></th>\n",
              "      <th>0</th>\n",
              "      <th>1</th>\n",
              "      <th>2</th>\n",
              "      <th>3</th>\n",
              "      <th>4</th>\n",
              "      <th>5</th>\n",
              "      <th>6</th>\n",
              "    </tr>\n",
              "  </thead>\n",
              "  <tbody>\n",
              "    <tr>\n",
              "      <th>0</th>\n",
              "      <td>12224879</td>\n",
              "      <td>Interactive Dynamic Video</td>\n",
              "      <td>http://www.interactivedynamicvideo.com/</td>\n",
              "      <td>386</td>\n",
              "      <td>52</td>\n",
              "      <td>ne0phyte</td>\n",
              "      <td>8/4/2016 11:52</td>\n",
              "    </tr>\n",
              "    <tr>\n",
              "      <th>1</th>\n",
              "      <td>10975351</td>\n",
              "      <td>How to Use Open Source and Shut the Fuck Up at...</td>\n",
              "      <td>http://hueniverse.com/2016/01/26/how-to-use-op...</td>\n",
              "      <td>39</td>\n",
              "      <td>10</td>\n",
              "      <td>josep2</td>\n",
              "      <td>1/26/2016 19:30</td>\n",
              "    </tr>\n",
              "    <tr>\n",
              "      <th>2</th>\n",
              "      <td>11964716</td>\n",
              "      <td>Florida DJs May Face Felony for April Fools' W...</td>\n",
              "      <td>http://www.thewire.com/entertainment/2013/04/f...</td>\n",
              "      <td>2</td>\n",
              "      <td>1</td>\n",
              "      <td>vezycash</td>\n",
              "      <td>6/23/2016 22:20</td>\n",
              "    </tr>\n",
              "    <tr>\n",
              "      <th>3</th>\n",
              "      <td>11919867</td>\n",
              "      <td>Technology ventures: From Idea to Enterprise</td>\n",
              "      <td>https://www.amazon.com/Technology-Ventures-Ent...</td>\n",
              "      <td>3</td>\n",
              "      <td>1</td>\n",
              "      <td>hswarna</td>\n",
              "      <td>6/17/2016 0:01</td>\n",
              "    </tr>\n",
              "    <tr>\n",
              "      <th>4</th>\n",
              "      <td>10301696</td>\n",
              "      <td>Note by Note: The Making of Steinway L1037 (2007)</td>\n",
              "      <td>http://www.nytimes.com/2007/11/07/movies/07ste...</td>\n",
              "      <td>8</td>\n",
              "      <td>2</td>\n",
              "      <td>walterbell</td>\n",
              "      <td>9/30/2015 4:12</td>\n",
              "    </tr>\n",
              "  </tbody>\n",
              "</table>\n",
              "</div>\n",
              "      <button class=\"colab-df-convert\" onclick=\"convertToInteractive('df-aa7fc97c-f309-4882-9628-67c3a9a72170')\"\n",
              "              title=\"Convert this dataframe to an interactive table.\"\n",
              "              style=\"display:none;\">\n",
              "        \n",
              "  <svg xmlns=\"http://www.w3.org/2000/svg\" height=\"24px\"viewBox=\"0 0 24 24\"\n",
              "       width=\"24px\">\n",
              "    <path d=\"M0 0h24v24H0V0z\" fill=\"none\"/>\n",
              "    <path d=\"M18.56 5.44l.94 2.06.94-2.06 2.06-.94-2.06-.94-.94-2.06-.94 2.06-2.06.94zm-11 1L8.5 8.5l.94-2.06 2.06-.94-2.06-.94L8.5 2.5l-.94 2.06-2.06.94zm10 10l.94 2.06.94-2.06 2.06-.94-2.06-.94-.94-2.06-.94 2.06-2.06.94z\"/><path d=\"M17.41 7.96l-1.37-1.37c-.4-.4-.92-.59-1.43-.59-.52 0-1.04.2-1.43.59L10.3 9.45l-7.72 7.72c-.78.78-.78 2.05 0 2.83L4 21.41c.39.39.9.59 1.41.59.51 0 1.02-.2 1.41-.59l7.78-7.78 2.81-2.81c.8-.78.8-2.07 0-2.86zM5.41 20L4 18.59l7.72-7.72 1.47 1.35L5.41 20z\"/>\n",
              "  </svg>\n",
              "      </button>\n",
              "      \n",
              "  <style>\n",
              "    .colab-df-container {\n",
              "      display:flex;\n",
              "      flex-wrap:wrap;\n",
              "      gap: 12px;\n",
              "    }\n",
              "\n",
              "    .colab-df-convert {\n",
              "      background-color: #E8F0FE;\n",
              "      border: none;\n",
              "      border-radius: 50%;\n",
              "      cursor: pointer;\n",
              "      display: none;\n",
              "      fill: #1967D2;\n",
              "      height: 32px;\n",
              "      padding: 0 0 0 0;\n",
              "      width: 32px;\n",
              "    }\n",
              "\n",
              "    .colab-df-convert:hover {\n",
              "      background-color: #E2EBFA;\n",
              "      box-shadow: 0px 1px 2px rgba(60, 64, 67, 0.3), 0px 1px 3px 1px rgba(60, 64, 67, 0.15);\n",
              "      fill: #174EA6;\n",
              "    }\n",
              "\n",
              "    [theme=dark] .colab-df-convert {\n",
              "      background-color: #3B4455;\n",
              "      fill: #D2E3FC;\n",
              "    }\n",
              "\n",
              "    [theme=dark] .colab-df-convert:hover {\n",
              "      background-color: #434B5C;\n",
              "      box-shadow: 0px 1px 3px 1px rgba(0, 0, 0, 0.15);\n",
              "      filter: drop-shadow(0px 1px 2px rgba(0, 0, 0, 0.3));\n",
              "      fill: #FFFFFF;\n",
              "    }\n",
              "  </style>\n",
              "\n",
              "      <script>\n",
              "        const buttonEl =\n",
              "          document.querySelector('#df-aa7fc97c-f309-4882-9628-67c3a9a72170 button.colab-df-convert');\n",
              "        buttonEl.style.display =\n",
              "          google.colab.kernel.accessAllowed ? 'block' : 'none';\n",
              "\n",
              "        async function convertToInteractive(key) {\n",
              "          const element = document.querySelector('#df-aa7fc97c-f309-4882-9628-67c3a9a72170');\n",
              "          const dataTable =\n",
              "            await google.colab.kernel.invokeFunction('convertToInteractive',\n",
              "                                                     [key], {});\n",
              "          if (!dataTable) return;\n",
              "\n",
              "          const docLinkHtml = 'Like what you see? Visit the ' +\n",
              "            '<a target=\"_blank\" href=https://colab.research.google.com/notebooks/data_table.ipynb>data table notebook</a>'\n",
              "            + ' to learn more about interactive tables.';\n",
              "          element.innerHTML = '';\n",
              "          dataTable['output_type'] = 'display_data';\n",
              "          await google.colab.output.renderOutput(dataTable, element);\n",
              "          const docLink = document.createElement('div');\n",
              "          docLink.innerHTML = docLinkHtml;\n",
              "          element.appendChild(docLink);\n",
              "        }\n",
              "      </script>\n",
              "    </div>\n",
              "  </div>\n",
              "  "
            ],
            "text/plain": [
              "          0                                                  1  \\\n",
              "0  12224879                          Interactive Dynamic Video   \n",
              "1  10975351  How to Use Open Source and Shut the Fuck Up at...   \n",
              "2  11964716  Florida DJs May Face Felony for April Fools' W...   \n",
              "3  11919867       Technology ventures: From Idea to Enterprise   \n",
              "4  10301696  Note by Note: The Making of Steinway L1037 (2007)   \n",
              "\n",
              "                                                   2    3   4           5  \\\n",
              "0            http://www.interactivedynamicvideo.com/  386  52    ne0phyte   \n",
              "1  http://hueniverse.com/2016/01/26/how-to-use-op...   39  10      josep2   \n",
              "2  http://www.thewire.com/entertainment/2013/04/f...    2   1    vezycash   \n",
              "3  https://www.amazon.com/Technology-Ventures-Ent...    3   1     hswarna   \n",
              "4  http://www.nytimes.com/2007/11/07/movies/07ste...    8   2  walterbell   \n",
              "\n",
              "                 6  \n",
              "0   8/4/2016 11:52  \n",
              "1  1/26/2016 19:30  \n",
              "2  6/23/2016 22:20  \n",
              "3   6/17/2016 0:01  \n",
              "4   9/30/2015 4:12  "
            ]
          },
          "metadata": {},
          "output_type": "display_data"
        }
      ],
      "source": [
        "explore_data_pandas(hn, 0, 5)"
      ]
    },
    {
      "cell_type": "markdown",
      "metadata": {
        "id": "0eDen2tAlFXQ"
      },
      "source": [
        "#### Wyciąganie artykułów w kategorii `Ask HN` i `Show HN`"
      ]
    },
    {
      "cell_type": "markdown",
      "metadata": {
        "id": "12YsjhTwlIKV"
      },
      "source": [
        "Użyto metody startswith, sprawdzającej czy np. string \"ania ma kota\" zaczyna się od \"ania\"\n",
        "\n",
        "`.lower` zamienia string na małe litery, aby uniknąć pominięcia tytułów napisanych wielką literą"
      ]
    },
    {
      "cell_type": "code",
      "execution_count": null,
      "metadata": {
        "colab": {
          "base_uri": "https://localhost:8080/"
        },
        "id": "wbv0EXXdlQMe",
        "outputId": "c2633c02-32bd-4336-895e-34f42c9a67e6"
      },
      "outputs": [
        {
          "name": "stdout",
          "output_type": "stream",
          "text": [
            "1744\n",
            "1162\n",
            "17194\n"
          ]
        }
      ],
      "source": [
        "#odrębne listy na każdy z wyciąganych rodzajów postów\n",
        "ask_posts = []\n",
        "show_posts =[]\n",
        "other_posts = []\n",
        "\n",
        "for post in hn:\n",
        "    title = post[1] # tytuł jest na indexie 1\n",
        "    if title.lower().startswith(\"ask hn\"):\n",
        "        ask_posts.append(post)\n",
        "    elif title.lower().startswith(\"show hn\"):\n",
        "        show_posts.append(post)\n",
        "    else:\n",
        "        other_posts.append(post)\n",
        "\n",
        "print(len(ask_posts))\n",
        "print(len(show_posts))\n",
        "print(len(other_posts))"
      ]
    },
    {
      "cell_type": "markdown",
      "metadata": {
        "id": "bkaAQhmrlarv"
      },
      "source": [
        "#### Obliczanie średniej ilości komentarzy pod postami Ask HN oraz Show HN"
      ]
    },
    {
      "cell_type": "code",
      "execution_count": null,
      "metadata": {
        "colab": {
          "base_uri": "https://localhost:8080/",
          "height": 238
        },
        "id": "2lgYrrr0lgIF",
        "outputId": "29951b92-c643-4d4a-a17a-7001e2eadd9d"
      },
      "outputs": [
        {
          "name": "stdout",
          "output_type": "stream",
          "text": [
            "Liczba wierszy: 1744\n",
            "Liczba kolumn: 7\n"
          ]
        },
        {
          "data": {
            "text/html": [
              "\n",
              "  <div id=\"df-9dae53be-a514-44cd-9887-3a1912262b70\">\n",
              "    <div class=\"colab-df-container\">\n",
              "      <div>\n",
              "<style scoped>\n",
              "    .dataframe tbody tr th:only-of-type {\n",
              "        vertical-align: middle;\n",
              "    }\n",
              "\n",
              "    .dataframe tbody tr th {\n",
              "        vertical-align: top;\n",
              "    }\n",
              "\n",
              "    .dataframe thead th {\n",
              "        text-align: right;\n",
              "    }\n",
              "</style>\n",
              "<table border=\"1\" class=\"dataframe\">\n",
              "  <thead>\n",
              "    <tr style=\"text-align: right;\">\n",
              "      <th></th>\n",
              "      <th>0</th>\n",
              "      <th>1</th>\n",
              "      <th>2</th>\n",
              "      <th>3</th>\n",
              "      <th>4</th>\n",
              "      <th>5</th>\n",
              "      <th>6</th>\n",
              "    </tr>\n",
              "  </thead>\n",
              "  <tbody>\n",
              "    <tr>\n",
              "      <th>0</th>\n",
              "      <td>12296411</td>\n",
              "      <td>Ask HN: How to improve my personal website?</td>\n",
              "      <td></td>\n",
              "      <td>2</td>\n",
              "      <td>6</td>\n",
              "      <td>ahmedbaracat</td>\n",
              "      <td>8/16/2016 9:55</td>\n",
              "    </tr>\n",
              "    <tr>\n",
              "      <th>1</th>\n",
              "      <td>10610020</td>\n",
              "      <td>Ask HN: Am I the only one outraged by Twitter ...</td>\n",
              "      <td></td>\n",
              "      <td>28</td>\n",
              "      <td>29</td>\n",
              "      <td>tkfx</td>\n",
              "      <td>11/22/2015 13:43</td>\n",
              "    </tr>\n",
              "    <tr>\n",
              "      <th>2</th>\n",
              "      <td>11610310</td>\n",
              "      <td>Ask HN: Aby recent changes to CSS that broke m...</td>\n",
              "      <td></td>\n",
              "      <td>1</td>\n",
              "      <td>1</td>\n",
              "      <td>polskibus</td>\n",
              "      <td>5/2/2016 10:14</td>\n",
              "    </tr>\n",
              "    <tr>\n",
              "      <th>3</th>\n",
              "      <td>12210105</td>\n",
              "      <td>Ask HN: Looking for Employee #3 How do I do it?</td>\n",
              "      <td></td>\n",
              "      <td>1</td>\n",
              "      <td>3</td>\n",
              "      <td>sph130</td>\n",
              "      <td>8/2/2016 14:20</td>\n",
              "    </tr>\n",
              "    <tr>\n",
              "      <th>4</th>\n",
              "      <td>10394168</td>\n",
              "      <td>Ask HN: Someone offered to buy my browser exte...</td>\n",
              "      <td></td>\n",
              "      <td>28</td>\n",
              "      <td>17</td>\n",
              "      <td>roykolak</td>\n",
              "      <td>10/15/2015 16:38</td>\n",
              "    </tr>\n",
              "  </tbody>\n",
              "</table>\n",
              "</div>\n",
              "      <button class=\"colab-df-convert\" onclick=\"convertToInteractive('df-9dae53be-a514-44cd-9887-3a1912262b70')\"\n",
              "              title=\"Convert this dataframe to an interactive table.\"\n",
              "              style=\"display:none;\">\n",
              "        \n",
              "  <svg xmlns=\"http://www.w3.org/2000/svg\" height=\"24px\"viewBox=\"0 0 24 24\"\n",
              "       width=\"24px\">\n",
              "    <path d=\"M0 0h24v24H0V0z\" fill=\"none\"/>\n",
              "    <path d=\"M18.56 5.44l.94 2.06.94-2.06 2.06-.94-2.06-.94-.94-2.06-.94 2.06-2.06.94zm-11 1L8.5 8.5l.94-2.06 2.06-.94-2.06-.94L8.5 2.5l-.94 2.06-2.06.94zm10 10l.94 2.06.94-2.06 2.06-.94-2.06-.94-.94-2.06-.94 2.06-2.06.94z\"/><path d=\"M17.41 7.96l-1.37-1.37c-.4-.4-.92-.59-1.43-.59-.52 0-1.04.2-1.43.59L10.3 9.45l-7.72 7.72c-.78.78-.78 2.05 0 2.83L4 21.41c.39.39.9.59 1.41.59.51 0 1.02-.2 1.41-.59l7.78-7.78 2.81-2.81c.8-.78.8-2.07 0-2.86zM5.41 20L4 18.59l7.72-7.72 1.47 1.35L5.41 20z\"/>\n",
              "  </svg>\n",
              "      </button>\n",
              "      \n",
              "  <style>\n",
              "    .colab-df-container {\n",
              "      display:flex;\n",
              "      flex-wrap:wrap;\n",
              "      gap: 12px;\n",
              "    }\n",
              "\n",
              "    .colab-df-convert {\n",
              "      background-color: #E8F0FE;\n",
              "      border: none;\n",
              "      border-radius: 50%;\n",
              "      cursor: pointer;\n",
              "      display: none;\n",
              "      fill: #1967D2;\n",
              "      height: 32px;\n",
              "      padding: 0 0 0 0;\n",
              "      width: 32px;\n",
              "    }\n",
              "\n",
              "    .colab-df-convert:hover {\n",
              "      background-color: #E2EBFA;\n",
              "      box-shadow: 0px 1px 2px rgba(60, 64, 67, 0.3), 0px 1px 3px 1px rgba(60, 64, 67, 0.15);\n",
              "      fill: #174EA6;\n",
              "    }\n",
              "\n",
              "    [theme=dark] .colab-df-convert {\n",
              "      background-color: #3B4455;\n",
              "      fill: #D2E3FC;\n",
              "    }\n",
              "\n",
              "    [theme=dark] .colab-df-convert:hover {\n",
              "      background-color: #434B5C;\n",
              "      box-shadow: 0px 1px 3px 1px rgba(0, 0, 0, 0.15);\n",
              "      filter: drop-shadow(0px 1px 2px rgba(0, 0, 0, 0.3));\n",
              "      fill: #FFFFFF;\n",
              "    }\n",
              "  </style>\n",
              "\n",
              "      <script>\n",
              "        const buttonEl =\n",
              "          document.querySelector('#df-9dae53be-a514-44cd-9887-3a1912262b70 button.colab-df-convert');\n",
              "        buttonEl.style.display =\n",
              "          google.colab.kernel.accessAllowed ? 'block' : 'none';\n",
              "\n",
              "        async function convertToInteractive(key) {\n",
              "          const element = document.querySelector('#df-9dae53be-a514-44cd-9887-3a1912262b70');\n",
              "          const dataTable =\n",
              "            await google.colab.kernel.invokeFunction('convertToInteractive',\n",
              "                                                     [key], {});\n",
              "          if (!dataTable) return;\n",
              "\n",
              "          const docLinkHtml = 'Like what you see? Visit the ' +\n",
              "            '<a target=\"_blank\" href=https://colab.research.google.com/notebooks/data_table.ipynb>data table notebook</a>'\n",
              "            + ' to learn more about interactive tables.';\n",
              "          element.innerHTML = '';\n",
              "          dataTable['output_type'] = 'display_data';\n",
              "          await google.colab.output.renderOutput(dataTable, element);\n",
              "          const docLink = document.createElement('div');\n",
              "          docLink.innerHTML = docLinkHtml;\n",
              "          element.appendChild(docLink);\n",
              "        }\n",
              "      </script>\n",
              "    </div>\n",
              "  </div>\n",
              "  "
            ],
            "text/plain": [
              "          0                                                  1 2   3   4  \\\n",
              "0  12296411        Ask HN: How to improve my personal website?     2   6   \n",
              "1  10610020  Ask HN: Am I the only one outraged by Twitter ...    28  29   \n",
              "2  11610310  Ask HN: Aby recent changes to CSS that broke m...     1   1   \n",
              "3  12210105    Ask HN: Looking for Employee #3 How do I do it?     1   3   \n",
              "4  10394168  Ask HN: Someone offered to buy my browser exte...    28  17   \n",
              "\n",
              "              5                 6  \n",
              "0  ahmedbaracat    8/16/2016 9:55  \n",
              "1          tkfx  11/22/2015 13:43  \n",
              "2     polskibus    5/2/2016 10:14  \n",
              "3        sph130    8/2/2016 14:20  \n",
              "4      roykolak  10/15/2015 16:38  "
            ]
          },
          "metadata": {},
          "output_type": "display_data"
        }
      ],
      "source": [
        "explore_data_pandas(ask_posts, 0, 5)"
      ]
    },
    {
      "cell_type": "markdown",
      "metadata": {
        "id": "Q6X1XjBclj6S"
      },
      "source": [
        "Na początku stworzono zmienną `total_ask_comments` równą `0`, do której pętla `for` w każdej iteracji dodaje liczbę (zamienioną na typ `intiger`) z 4 indexu odpowiadającą liczbie komentarzy. W ten sposób uzyskano całkowitą liczbę komentarzy w postach Ask HN.\n",
        "\n",
        "`avg_ask_comments` czyli średnią ilość komentarzy na post, oblicozno dzieląc `total_ask_comments` przez całą długość zbioru `ask_post`"
      ]
    },
    {
      "cell_type": "code",
      "execution_count": null,
      "metadata": {
        "colab": {
          "base_uri": "https://localhost:8080/"
        },
        "id": "oyE7I3sClogR",
        "outputId": "3be565fb-8b46-4636-beb2-90811fd7bd3f"
      },
      "outputs": [
        {
          "name": "stdout",
          "output_type": "stream",
          "text": [
            "14.038417431192661\n"
          ]
        }
      ],
      "source": [
        "total_ask_comments = 0\n",
        "\n",
        "for post in ask_posts:\n",
        "    total_ask_comments += int(post[4])\n",
        "\n",
        "avg_ask_comments = total_ask_comments / len(ask_posts)\n",
        "print(avg_ask_comments)"
      ]
    },
    {
      "cell_type": "markdown",
      "metadata": {
        "id": "qcj8fXuLltAk"
      },
      "source": [
        "Analogicznie postąpiono przy postach Show HN"
      ]
    },
    {
      "cell_type": "code",
      "execution_count": null,
      "metadata": {
        "colab": {
          "base_uri": "https://localhost:8080/"
        },
        "id": "mMndm_iblwso",
        "outputId": "6eb01a5d-5cc6-4845-afa9-a79f2b5167b6"
      },
      "outputs": [
        {
          "name": "stdout",
          "output_type": "stream",
          "text": [
            "10.31669535283993\n"
          ]
        }
      ],
      "source": [
        "total_show_comments = 0\n",
        "\n",
        "for post in show_posts:\n",
        "    total_show_comments += int(post[4])\n",
        "\n",
        "avg_show_comments = total_show_comments / len(show_posts)\n",
        "print(avg_show_comments)"
      ]
    },
    {
      "cell_type": "markdown",
      "metadata": {
        "id": "a8c2SPodl0Nq"
      },
      "source": [
        "Post Ask HN zdobywa średnio w przybliżeniu 14 komentarzy, podczas gdy post Show HN 10. Wynika to najprawdopodobniej z tego że posty Ask HN to pytania a komentarze to odpowiedzi."
      ]
    },
    {
      "cell_type": "markdown",
      "metadata": {
        "id": "INvWlU1nl8nY"
      },
      "source": [
        "#### Wyszukiwanie ilości postów Ask HN i ich komentarzy na podstawie godziny dodania.\n",
        "Aby dowieedzieć się czy posty Ask HN są częściej komentowane w konkretnym czasie, obliczono ile postów jest publikowanych oraz to ile zdobywają komentarzy w danych godzinach. Następnie obliczono średnią ilość komentarzy w danej godzinie."
      ]
    },
    {
      "cell_type": "markdown",
      "metadata": {
        "id": "A6cfqTdal-3f"
      },
      "source": [
        "Do obliczeń zaimportowano moduł datetime. Utworzono pustą listę do przechowywania list z której każda posaida czas dodania postu i liczbę komentarzy (w typie intiger).\n",
        "\n",
        "Następnie utworzono 2 słowniki, `commentss_by_hour` i `counts_by_hour`. `date_format` ustawiono tak jak jest w zbiorze danych. W pętli `for` iterowano po każdym wierszu, przypisano zmienne date i coment oraz time (funkcją `strptime ` przekonwertowano string na obiekt `datetime`. `strftime` działa odwrotnie, użyto go żeby zaznaczyć jedynie godzine z obiektu `datetime`.\n",
        "\n",
        "Kolejno utworzono wyrażenie warunkowe, w którym przy każdej iteracji do słownika `comments_by_hour` zostaje dodana liczba komentarzy. Zostaje również sprawdzone czy dana godzina jest już  w słowniku `counts_by_hour`, jeżeli tak to dodaje do istniejących. Jeżeli natomiast nie ma czasu (czyli pełnej godziny) w słownikach, zostaje w nich utworzony dany klucz."
      ]
    },
    {
      "cell_type": "code",
      "execution_count": null,
      "metadata": {
        "colab": {
          "base_uri": "https://localhost:8080/"
        },
        "id": "YtwvXOCimEXN",
        "outputId": "e6a46357-eeae-460a-afe0-be148c4a55b2"
      },
      "outputs": [
        {
          "data": {
            "text/plain": [
              "{'09': 251,\n",
              " '13': 1253,\n",
              " '10': 793,\n",
              " '14': 1416,\n",
              " '16': 1814,\n",
              " '23': 543,\n",
              " '12': 687,\n",
              " '17': 1146,\n",
              " '15': 4477,\n",
              " '21': 1745,\n",
              " '20': 1722,\n",
              " '02': 1381,\n",
              " '18': 1439,\n",
              " '03': 421,\n",
              " '05': 464,\n",
              " '19': 1188,\n",
              " '01': 683,\n",
              " '22': 479,\n",
              " '08': 492,\n",
              " '04': 337,\n",
              " '00': 447,\n",
              " '06': 397,\n",
              " '07': 267,\n",
              " '11': 641}"
            ]
          },
          "execution_count": 37,
          "metadata": {},
          "output_type": "execute_result"
        }
      ],
      "source": [
        "import datetime as dt\n",
        "\n",
        "result_list = []\n",
        "\n",
        "for post in ask_posts:\n",
        "    result_list.append(\n",
        "        [post[6], int(post[4])]\n",
        "    )\n",
        "\n",
        "comments_by_hour = {}\n",
        "counts_by_hour = {}\n",
        "date_format = \"%m/%d/%Y %H:%M\"\n",
        "\n",
        "for each_row in result_list:\n",
        "    date = each_row[0]\n",
        "    comment = each_row[1]\n",
        "    time = dt.datetime.strptime(date, date_format).strftime(\"%H\")\n",
        "    if time in counts_by_hour:\n",
        "        comments_by_hour[time] += comment\n",
        "        counts_by_hour[time] += 1\n",
        "    else:\n",
        "        comments_by_hour[time] = comment\n",
        "        counts_by_hour[time] = 1\n",
        "\n",
        "comments_by_hour\n",
        "#counts_by_hour"
      ]
    },
    {
      "cell_type": "markdown",
      "metadata": {
        "id": "GNriA3U_mIAL"
      },
      "source": [
        "#### Obliczanie średniej ilości komentarzy postów Ask HN z uwagi na godzine dodania"
      ]
    },
    {
      "cell_type": "markdown",
      "metadata": {
        "id": "sYuQ3nl4mWGP"
      },
      "source": [
        "Aby obliczyć średnią ilość kometarzy w konkretnych godzinach, posłużono się utworzonymi wyrzej słownikami `commentss_by_hour` i `counts_by_hour`.\n",
        "\n",
        "Utworzono pustą listę a następnie iterowano po każdym elemecie ze słownika comments_by_hour, co listy dodawano klucz (czyli godzine) i średnia liczbę komentarzy obliczoną z całkowitej liczby komentarzy podzielonej przez liczbę postów."
      ]
    },
    {
      "cell_type": "code",
      "execution_count": null,
      "metadata": {
        "colab": {
          "base_uri": "https://localhost:8080/"
        },
        "id": "aQIJMKz0mY6I",
        "outputId": "48b2e98e-1578-4c85-b017-7952106c086e"
      },
      "outputs": [
        {
          "data": {
            "text/plain": [
              "[['09', 5.5777777777777775],\n",
              " ['13', 14.741176470588234],\n",
              " ['10', 13.440677966101696],\n",
              " ['14', 13.233644859813085],\n",
              " ['16', 16.796296296296298],\n",
              " ['23', 7.985294117647059],\n",
              " ['12', 9.41095890410959],\n",
              " ['17', 11.46],\n",
              " ['15', 38.5948275862069],\n",
              " ['21', 16.009174311926607],\n",
              " ['20', 21.525],\n",
              " ['02', 23.810344827586206],\n",
              " ['18', 13.20183486238532],\n",
              " ['03', 7.796296296296297],\n",
              " ['05', 10.08695652173913],\n",
              " ['19', 10.8],\n",
              " ['01', 11.383333333333333],\n",
              " ['22', 6.746478873239437],\n",
              " ['08', 10.25],\n",
              " ['04', 7.170212765957447],\n",
              " ['00', 8.127272727272727],\n",
              " ['06', 9.022727272727273],\n",
              " ['07', 7.852941176470588],\n",
              " ['11', 11.051724137931034]]"
            ]
          },
          "execution_count": 38,
          "metadata": {},
          "output_type": "execute_result"
        }
      ],
      "source": [
        "avg_by_hour = []\n",
        "\n",
        "for hr in comments_by_hour:\n",
        "    avg_by_hour.append([(hr), comments_by_hour[hr] / counts_by_hour[hr]])\n",
        "\n",
        "avg_by_hour"
      ]
    },
    {
      "cell_type": "markdown",
      "metadata": {
        "id": "HRAg5vbvmd8m"
      },
      "source": [
        "Chcąc uzzyskać listę w której średnia liczba komentarzy będzie maleć, utworzono pustą liste `swap_avg_by_hour` w której prostą pętlą zastosowano zamiane argumentów. Nastepnie fukcją `sorted` posortowano malejąco (`reverse = True`)\n"
      ]
    },
    {
      "cell_type": "code",
      "execution_count": null,
      "metadata": {
        "colab": {
          "base_uri": "https://localhost:8080/"
        },
        "id": "DsDP52PvmkEt",
        "outputId": "e1a5d43c-aad3-402c-83d9-159e7e25def2"
      },
      "outputs": [
        {
          "name": "stdout",
          "output_type": "stream",
          "text": [
            "[[5.5777777777777775, '09'], [14.741176470588234, '13'], [13.440677966101696, '10'], [13.233644859813085, '14'], [16.796296296296298, '16'], [7.985294117647059, '23'], [9.41095890410959, '12'], [11.46, '17'], [38.5948275862069, '15'], [16.009174311926607, '21'], [21.525, '20'], [23.810344827586206, '02'], [13.20183486238532, '18'], [7.796296296296297, '03'], [10.08695652173913, '05'], [10.8, '19'], [11.383333333333333, '01'], [6.746478873239437, '22'], [10.25, '08'], [7.170212765957447, '04'], [8.127272727272727, '00'], [9.022727272727273, '06'], [7.852941176470588, '07'], [11.051724137931034, '11']]\n"
          ]
        },
        {
          "data": {
            "text/plain": [
              "[[38.5948275862069, '15'],\n",
              " [23.810344827586206, '02'],\n",
              " [21.525, '20'],\n",
              " [16.796296296296298, '16'],\n",
              " [16.009174311926607, '21'],\n",
              " [14.741176470588234, '13'],\n",
              " [13.440677966101696, '10'],\n",
              " [13.233644859813085, '14'],\n",
              " [13.20183486238532, '18'],\n",
              " [11.46, '17'],\n",
              " [11.383333333333333, '01'],\n",
              " [11.051724137931034, '11'],\n",
              " [10.8, '19'],\n",
              " [10.25, '08'],\n",
              " [10.08695652173913, '05'],\n",
              " [9.41095890410959, '12'],\n",
              " [9.022727272727273, '06'],\n",
              " [8.127272727272727, '00'],\n",
              " [7.985294117647059, '23'],\n",
              " [7.852941176470588, '07'],\n",
              " [7.796296296296297, '03'],\n",
              " [7.170212765957447, '04'],\n",
              " [6.746478873239437, '22'],\n",
              " [5.5777777777777775, '09']]"
            ]
          },
          "execution_count": 39,
          "metadata": {},
          "output_type": "execute_result"
        }
      ],
      "source": [
        "swap_avg_by_hour = []\n",
        "\n",
        "for row in avg_by_hour:\n",
        "    swap_avg_by_hour.append([row[1], row[0]])\n",
        "\n",
        "print(swap_avg_by_hour)\n",
        "\n",
        "sorted_swap = sorted(swap_avg_by_hour, reverse=True)\n",
        "\n",
        "sorted_swap"
      ]
    },
    {
      "cell_type": "markdown",
      "metadata": {
        "id": "0FRdKEhjmoq6"
      },
      "source": [
        "Ponownie zastosowano funkcje `strptime` i `strftime` do wyświetlenia odpowiedzi której szukano."
      ]
    },
    {
      "cell_type": "code",
      "execution_count": null,
      "metadata": {
        "colab": {
          "base_uri": "https://localhost:8080/"
        },
        "id": "yughkn7_muaP",
        "outputId": "c2c247bf-0a7e-4c6a-c267-666ea3fc8e58"
      },
      "outputs": [
        {
          "name": "stdout",
          "output_type": "stream",
          "text": [
            "Top 5 godzin w których komentowano posty 'Ask HN' \n",
            "15:00: 38.59 średnio komentarzy na post\n",
            "02:00: 23.81 średnio komentarzy na post\n",
            "20:00: 21.52 średnio komentarzy na post\n",
            "16:00: 16.80 średnio komentarzy na post\n",
            "21:00: 16.01 średnio komentarzy na post\n"
          ]
        }
      ],
      "source": [
        "print(\"Top 5 godzin w których komentowano posty 'Ask HN' \")\n",
        "for avg, hr in sorted_swap[:5]:\n",
        "    print(\n",
        "        \"{}: {:.2f} średnio komentarzy na post\".format(\n",
        "            dt.datetime.strptime(hr, \"%H\").strftime(\"%H:%M\"),avg\n",
        "        )\n",
        "    )\n",
        "\n"
      ]
    },
    {
      "cell_type": "markdown",
      "metadata": {
        "id": "Qm1mCevKm1Pj"
      },
      "source": [
        "Do zwizualizowania różnic w rozkładzie ilości komentarzy w dobie, użyto biblioteki `matplotlib`."
      ]
    },
    {
      "cell_type": "code",
      "execution_count": null,
      "metadata": {
        "colab": {
          "base_uri": "https://localhost:8080/",
          "height": 284
        },
        "id": "DvqC4aUsmyB7",
        "outputId": "8910866b-a18b-499c-eb72-dd131e42e845"
      },
      "outputs": [
        {
          "data": {
            "text/plain": [
              "<BarContainer object of 24 artists>"
            ]
          },
          "execution_count": 41,
          "metadata": {},
          "output_type": "execute_result"
        },
        {
          "data": {
            "image/png": "[encoded data removed]",
            "text/plain": [
              "<Figure size 432x288 with 1 Axes>"
            ]
          },
          "metadata": {},
          "output_type": "display_data"
        }
      ],
      "source": [
        "from matplotlib import pyplot as plt\n",
        "\n",
        "xs, ys = [*zip(*sorted_swap)]\n",
        "plt.bar(ys, xs)"
      ]
    },
    {
      "cell_type": "markdown",
      "metadata": {
        "id": "VRNOv9M6md3K"
      },
      "source": []
    }
  ],
  "metadata": {
    "colab": {
      "collapsed_sections": [
        "OH5qNeQPEnVc",
        "9TwGE776emR-",
        "KvYISt3Gj5n8"
      ],
      "toc_visible": true,
      "provenance": []
    },
    "kernelspec": {
      "display_name": "Python 3",
      "name": "python3"
    },
    "language_info": {
      "name": "python"
    }
  },
  "nbformat": 4,
  "nbformat_minor": 0
}